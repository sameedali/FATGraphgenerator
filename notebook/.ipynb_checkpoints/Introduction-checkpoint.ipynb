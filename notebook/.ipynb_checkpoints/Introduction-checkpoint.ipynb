{
 "cells": [
  {
   "cell_type": "markdown",
   "metadata": {},
   "source": [
    "# Fat Tree Topology Generator\n",
    "\n",
    "## Summary of the files\n",
    "> cleanup.py\n",
    "\n",
    "Cleans up the result files in the out/ folder after an experiment.\n",
    "\n",
    "\n",
    "> createUtilGraph.py\n",
    "\n",
    "Creates the graphs from the result files in the out/ folder\n",
    "\n",
    "> FatTreeGenerator.py\n",
    "\n",
    "Generates the topology and moves the resulting files in the out/ folder\n",
    "\n",
    "\n",
    "> make_graphs.py\n",
    "\n",
    "A wrapper script which calls createUtilGraph.py\n",
    "\n",
    "\n",
    "> ratioCalc.py\n",
    "\n",
    "Calculates the ratio of data plane traffic (TCP) to control plane traffic (eSDN DHT, SDN controller polling traffic)\n",
    "\n",
    "\n",
    "> tcl/\n",
    "\n",
    "Holds the TCL templates and reference files.\n"
   ]
  },
  {
   "cell_type": "markdown",
   "metadata": {},
   "source": [
    "# Running the Experiment\n",
    "Edit the start of the `FatTreeGenerator.py` file to adjust the topology's K-value and the link bandwidths then run the file using the following command:\n",
    "> python FatTreeGenerator.py\n",
    "\n",
    "The result will be stored in the out/ folder.\n",
    "\n",
    "Then run `ns2` on the generated TCL file.\n",
    "After ajusting the parameters in `out.tcl`.\n",
    "\n",
    "> cd ../out/\n",
    "\n",
    "> vi out.tcl\n",
    "\n",
    "> ns out.tcl\n",
    "\n",
    "The simulation will produce its results in the `out/` directory. "
   ]
  }
 ],
 "metadata": {
  "kernelspec": {
   "display_name": "Python 2",
   "language": "python",
   "name": "python2"
  },
  "language_info": {
   "codemirror_mode": {
    "name": "ipython",
    "version": 2
   },
   "file_extension": ".py",
   "mimetype": "text/x-python",
   "name": "python",
   "nbconvert_exporter": "python",
   "pygments_lexer": "ipython2",
   "version": "2.7.6"
  }
 },
 "nbformat": 4,
 "nbformat_minor": 0
}
